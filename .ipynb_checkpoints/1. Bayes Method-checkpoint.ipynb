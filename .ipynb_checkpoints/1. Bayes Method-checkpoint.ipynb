{
 "cells": [
  {
   "cell_type": "markdown",
   "id": "8e2a450d",
   "metadata": {},
   "source": [
    "Let's import all necesserary libraries for further:"
   ]
  },
  {
   "cell_type": "code",
   "execution_count": 7,
   "id": "b79bd212",
   "metadata": {},
   "outputs": [],
   "source": [
    "import numpy as np\n",
    "import tensorflow as tf\n",
    "from sklearn.model_selection import train_test_split\n",
    "from sklearn.metrics import accuracy_score\n",
    "from tensorflow.keras.datasets import mnist\n",
    "import matplotlib.pyplot as plt\n",
    "None"
   ]
  },
  {
   "cell_type": "markdown",
   "id": "fe29b6f4",
   "metadata": {},
   "source": [
    "Let's define out Classificator:"
   ]
  },
  {
   "cell_type": "code",
   "execution_count": 8,
   "id": "3c9bdcf8",
   "metadata": {},
   "outputs": [],
   "source": [
    "class Classificator:\n",
    "    def __init__(self):\n",
    "        self.numbers = np.zeros((10, 20, 20))\n",
    "\n",
    "    def fit(self, images, labels):\n",
    "        for i in range(0, len(images)):\n",
    "            self.numbers[labels[i]] += images[i]\n",
    "    def predict(self, images):\n",
    "        results = []\n",
    "        for i in range(0, len(images)):\n",
    "            result = []\n",
    "            for j in range(0, 10):\n",
    "                temp_image = np.multiply(images[i], self.numbers[j])\n",
    "                temp_result = np.sum(temp_image, axis=None)\n",
    "                result.append(temp_result)\n",
    "            results.append(np.argmax(result))\n",
    "        return results"
   ]
  },
  {
   "cell_type": "markdown",
   "id": "163da783",
   "metadata": {},
   "source": [
    "Let's downoload MNIST data:"
   ]
  },
  {
   "cell_type": "code",
   "execution_count": 9,
   "id": "a8b4f95f",
   "metadata": {},
   "outputs": [],
   "source": [
    "(data_train, labels_train), (data_test, labels_test) = tf.keras.datasets.mnist.load_data()\n",
    "images = np.concatenate((data_train, data_test))\n",
    "labels = np.concatenate((labels_train, labels_test))"
   ]
  },
  {
   "cell_type": "markdown",
   "id": "420af61f",
   "metadata": {},
   "source": [
    "Let's create our model and test it:"
   ]
  },
  {
   "cell_type": "code",
   "execution_count": 10,
   "id": "6626df5b",
   "metadata": {},
   "outputs": [
    {
     "name": "stdout",
     "output_type": "stream",
     "text": [
      "Accuracy score, when training data is 80% of all data:\n"
     ]
    },
    {
     "ename": "ValueError",
     "evalue": "operands could not be broadcast together with shapes (20,20) (28,28) (20,20) ",
     "output_type": "error",
     "traceback": [
      "\u001b[0;31m---------------------------------------------------------------------------\u001b[0m",
      "\u001b[0;31mValueError\u001b[0m                                Traceback (most recent call last)",
      "Cell \u001b[0;32mIn[10], line 4\u001b[0m\n\u001b[1;32m      2\u001b[0m \u001b[38;5;28mprint\u001b[39m(\u001b[38;5;124m\"\u001b[39m\u001b[38;5;124mAccuracy score, when training data is 80\u001b[39m\u001b[38;5;132;01m% o\u001b[39;00m\u001b[38;5;124mf all data:\u001b[39m\u001b[38;5;124m\"\u001b[39m)\n\u001b[1;32m      3\u001b[0m images_train, images_test, labels_train, labels_test \u001b[38;5;241m=\u001b[39m train_test_split(images, labels, test_size\u001b[38;5;241m=\u001b[39m\u001b[38;5;241m0.2\u001b[39m, random_state\u001b[38;5;241m=\u001b[39m\u001b[38;5;241m42\u001b[39m)\n\u001b[0;32m----> 4\u001b[0m model\u001b[38;5;241m.\u001b[39mfit(images_train, labels_train)\n\u001b[1;32m      5\u001b[0m \u001b[38;5;28mprint\u001b[39m(\u001b[38;5;124mf\u001b[39m\u001b[38;5;124m'\u001b[39m\u001b[38;5;132;01m{\u001b[39;00maccuracy_score(model\u001b[38;5;241m.\u001b[39mpredict(images_test),\u001b[38;5;250m \u001b[39mlabels_test)\u001b[38;5;132;01m:\u001b[39;00m\u001b[38;5;124m.2f\u001b[39m\u001b[38;5;132;01m}\u001b[39;00m\u001b[38;5;124m'\u001b[39m)\n",
      "Cell \u001b[0;32mIn[8], line 7\u001b[0m, in \u001b[0;36mClassificator.fit\u001b[0;34m(self, images, labels)\u001b[0m\n\u001b[1;32m      5\u001b[0m \u001b[38;5;28;01mdef\u001b[39;00m \u001b[38;5;21mfit\u001b[39m(\u001b[38;5;28mself\u001b[39m, images, labels):\n\u001b[1;32m      6\u001b[0m     \u001b[38;5;28;01mfor\u001b[39;00m i \u001b[38;5;129;01min\u001b[39;00m \u001b[38;5;28mrange\u001b[39m(\u001b[38;5;241m0\u001b[39m, \u001b[38;5;28mlen\u001b[39m(images)):\n\u001b[0;32m----> 7\u001b[0m         \u001b[38;5;28mself\u001b[39m\u001b[38;5;241m.\u001b[39mnumbers[labels[i]] \u001b[38;5;241m+\u001b[39m\u001b[38;5;241m=\u001b[39m images[i]\n",
      "\u001b[0;31mValueError\u001b[0m: operands could not be broadcast together with shapes (20,20) (28,28) (20,20) "
     ]
    }
   ],
   "source": [
    "model = Classificator()\n",
    "print(\"Accuracy score, when training data is 80% of all data:\")\n",
    "images_train, images_test, labels_train, labels_test = train_test_split(images, labels, test_size=0.2, random_state=42)\n",
    "model.fit(images_train, labels_train)\n",
    "print(f'{accuracy_score(model.predict(images_test), labels_test):.2f}')"
   ]
  },
  {
   "cell_type": "markdown",
   "id": "209a62ed",
   "metadata": {},
   "source": [
    "Let's check, how our model will predict values with different amount of training data:"
   ]
  },
  {
   "cell_type": "code",
   "execution_count": null,
   "id": "1ee5e973",
   "metadata": {},
   "outputs": [],
   "source": [
    "accuracies = dict()\n",
    "for i in range(1, 9):\n",
    "    print(f\"Accuracy score, when training data is {i * 10}% of all data\")\n",
    "    test_size = 1 - i / 10\n",
    "    images_train, images_test, labels_train, labels_test = train_test_split(images, labels, test_size=test_size,\n",
    "                                                                            random_state=42)\n",
    "    temp_model = Classificator()\n",
    "    temp_model.fit(images_train, labels_train)\n",
    "    accuracies[test_size] = accuracy_score(temp_model.predict(images_test), labels_test)\n",
    "    print(f'{accuracies[test_size]:.2f}')"
   ]
  },
  {
   "cell_type": "markdown",
   "id": "ba39ace3",
   "metadata": {},
   "source": [
    "Let's make a plot of accuracies:"
   ]
  },
  {
   "cell_type": "code",
   "execution_count": null,
   "id": "f4baaced",
   "metadata": {},
   "outputs": [],
   "source": [
    "epochs = list(accuracies.keys())\n",
    "accuracy_values = list(accuracies.values())\n",
    "\n",
    "plt.plot(epochs, accuracy_values, marker='o', linestyle='-')\n",
    "plt.title('График точности по эпохам')\n",
    "plt.xlabel('Эпоха')\n",
    "plt.ylabel('Точность')\n",
    "plt.grid(True)\n",
    "plt.show()"
   ]
  }
 ],
 "metadata": {
  "kernelspec": {
   "display_name": "Python 3 (ipykernel)",
   "language": "python",
   "name": "python3"
  },
  "language_info": {
   "codemirror_mode": {
    "name": "ipython",
    "version": 3
   },
   "file_extension": ".py",
   "mimetype": "text/x-python",
   "name": "python",
   "nbconvert_exporter": "python",
   "pygments_lexer": "ipython3",
   "version": "3.11.5"
  }
 },
 "nbformat": 4,
 "nbformat_minor": 5
}
