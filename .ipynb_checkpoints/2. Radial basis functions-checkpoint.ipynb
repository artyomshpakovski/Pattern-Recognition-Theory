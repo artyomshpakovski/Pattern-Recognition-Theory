{
 "cells": [
  {
   "cell_type": "code",
   "execution_count": 1,
   "metadata": {
    "id": "uez6KYiU4bJs"
   },
   "outputs": [],
   "source": [
    "import torch\n",
    "import torch.nn as nn\n",
    "import torchvision\n",
    "import torchvision.transforms as transforms\n",
    "from sklearn.cluster import KMeans\n",
    "import numpy as np"
   ]
  },
  {
   "cell_type": "code",
   "execution_count": 2,
   "metadata": {
    "id": "FtLOZjrc4rXN"
   },
   "outputs": [],
   "source": [
    "class RBFNet(nn.Module):\n",
    "    def __init__(self, num_neurons, num_classes):\n",
    "        super(RBFNet, self).__init__()\n",
    "        self.num_neurons = num_neurons\n",
    "        self.num_classes = num_classes\n",
    "        self.fc1 = nn.Linear(input_size, num_neurons, bias=False)\n",
    "        self.fc2 = nn.Linear(num_neurons, num_classes, bias=False)\n",
    "\n",
    "    def forward(self, x):\n",
    "        x = torch.exp(-gamma * torch.cdist(x, self.fc1.weight) ** 2)\n",
    "        x = self.fc2(x)\n",
    "        return x"
   ]
  },
  {
   "cell_type": "code",
   "execution_count": 3,
   "metadata": {
    "colab": {
     "base_uri": "https://localhost:8080/"
    },
    "id": "fVegM2QB4sQU",
    "outputId": "df09025a-2405-407e-da63-bea1fb3538aa"
   },
   "outputs": [
    {
     "name": "stdout",
     "output_type": "stream",
     "text": [
      "Downloading http://yann.lecun.com/exdb/mnist/train-images-idx3-ubyte.gz\n",
      "Downloading http://yann.lecun.com/exdb/mnist/train-images-idx3-ubyte.gz to ./data/MNIST/raw/train-images-idx3-ubyte.gz\n"
     ]
    },
    {
     "name": "stderr",
     "output_type": "stream",
     "text": [
      "100%|████████████████████████████| 9912422/9912422 [00:05<00:00, 1818032.28it/s]\n"
     ]
    },
    {
     "name": "stdout",
     "output_type": "stream",
     "text": [
      "Extracting ./data/MNIST/raw/train-images-idx3-ubyte.gz to ./data/MNIST/raw\n",
      "\n",
      "Downloading http://yann.lecun.com/exdb/mnist/train-labels-idx1-ubyte.gz\n",
      "Downloading http://yann.lecun.com/exdb/mnist/train-labels-idx1-ubyte.gz to ./data/MNIST/raw/train-labels-idx1-ubyte.gz\n"
     ]
    },
    {
     "name": "stderr",
     "output_type": "stream",
     "text": [
      "100%|███████████████████████████████| 28881/28881 [00:00<00:00, 86525495.59it/s]\n"
     ]
    },
    {
     "name": "stdout",
     "output_type": "stream",
     "text": [
      "Extracting ./data/MNIST/raw/train-labels-idx1-ubyte.gz to ./data/MNIST/raw\n",
      "\n",
      "Downloading http://yann.lecun.com/exdb/mnist/t10k-images-idx3-ubyte.gz\n",
      "Downloading http://yann.lecun.com/exdb/mnist/t10k-images-idx3-ubyte.gz to ./data/MNIST/raw/t10k-images-idx3-ubyte.gz\n"
     ]
    },
    {
     "name": "stderr",
     "output_type": "stream",
     "text": [
      "100%|████████████████████████████| 1648877/1648877 [00:01<00:00, 1047662.96it/s]\n"
     ]
    },
    {
     "name": "stdout",
     "output_type": "stream",
     "text": [
      "Extracting ./data/MNIST/raw/t10k-images-idx3-ubyte.gz to ./data/MNIST/raw\n",
      "\n",
      "Downloading http://yann.lecun.com/exdb/mnist/t10k-labels-idx1-ubyte.gz\n",
      "Downloading http://yann.lecun.com/exdb/mnist/t10k-labels-idx1-ubyte.gz to ./data/MNIST/raw/t10k-labels-idx1-ubyte.gz\n"
     ]
    },
    {
     "name": "stderr",
     "output_type": "stream",
     "text": [
      "100%|█████████████████████████████████| 4542/4542 [00:00<00:00, 18406307.99it/s]"
     ]
    },
    {
     "name": "stdout",
     "output_type": "stream",
     "text": [
      "Extracting ./data/MNIST/raw/t10k-labels-idx1-ubyte.gz to ./data/MNIST/raw\n",
      "\n"
     ]
    },
    {
     "name": "stderr",
     "output_type": "stream",
     "text": [
      "\n"
     ]
    }
   ],
   "source": [
    "transform = transforms.Compose([transforms.ToTensor(), transforms.Normalize((0.1307,), (0.3081,))])\n",
    "train_dataset = torchvision.datasets.MNIST(root='./data', train=True, transform=transform, download=True)\n",
    "test_dataset = torchvision.datasets.MNIST(root='./data', train=False, transform=transform)"
   ]
  },
  {
   "cell_type": "code",
   "execution_count": null,
   "metadata": {
    "colab": {
     "base_uri": "https://localhost:8080/"
    },
    "id": "aAMs8EEn499S",
    "outputId": "15ffd90d-6bd3-4cf3-b54d-129cdbf843d3"
   },
   "outputs": [
    {
     "name": "stdout",
     "output_type": "stream",
     "text": [
      "Epoch [1/5], Step [100/600], Loss: 2.3017\n",
      "Epoch [1/5], Step [200/600], Loss: 2.2964\n",
      "Epoch [1/5], Step [300/600], Loss: 2.2734\n",
      "Epoch [1/5], Step [400/600], Loss: 2.2591\n",
      "Epoch [1/5], Step [500/600], Loss: 2.2781\n",
      "Epoch [1/5], Step [600/600], Loss: 2.2609\n",
      "Epoch [2/5], Step [100/600], Loss: 2.2758\n",
      "Epoch [2/5], Step [200/600], Loss: 2.2439\n",
      "Epoch [2/5], Step [300/600], Loss: 2.2358\n",
      "Epoch [2/5], Step [400/600], Loss: 2.2369\n",
      "Epoch [2/5], Step [500/600], Loss: 2.2184\n",
      "Epoch [2/5], Step [600/600], Loss: 2.1862\n",
      "Epoch [3/5], Step [100/600], Loss: 2.2010\n",
      "Epoch [3/5], Step [200/600], Loss: 2.1091\n",
      "Epoch [3/5], Step [300/600], Loss: 2.1630\n",
      "Epoch [3/5], Step [400/600], Loss: 2.1395\n",
      "Epoch [3/5], Step [500/600], Loss: 2.1155\n",
      "Epoch [3/5], Step [600/600], Loss: 2.1175\n",
      "Epoch [4/5], Step [100/600], Loss: 2.0712\n",
      "Epoch [4/5], Step [200/600], Loss: 2.0616\n",
      "Epoch [4/5], Step [300/600], Loss: 2.0720\n",
      "Epoch [4/5], Step [400/600], Loss: 2.0853\n",
      "Epoch [4/5], Step [500/600], Loss: 2.0461\n",
      "Epoch [4/5], Step [600/600], Loss: 2.0761\n",
      "Epoch [5/5], Step [100/600], Loss: 2.0095\n",
      "Epoch [5/5], Step [200/600], Loss: 2.0070\n",
      "Epoch [5/5], Step [300/600], Loss: 1.9839\n",
      "Epoch [5/5], Step [400/600], Loss: 1.9577\n",
      "Epoch [5/5], Step [500/600], Loss: 1.9472\n",
      "Epoch [5/5], Step [600/600], Loss: 1.9089\n",
      "Accuracy of the network with 5 neurons in the hidden layer: 43.82 %\n",
      "Epoch [1/5], Step [100/600], Loss: 2.3032\n",
      "Epoch [1/5], Step [200/600], Loss: 2.2983\n",
      "Epoch [1/5], Step [300/600], Loss: 2.2680\n",
      "Epoch [1/5], Step [400/600], Loss: 2.2589\n",
      "Epoch [1/5], Step [500/600], Loss: 2.2472\n",
      "Epoch [1/5], Step [600/600], Loss: 2.2349\n",
      "Epoch [2/5], Step [100/600], Loss: 2.2526\n",
      "Epoch [2/5], Step [200/600], Loss: 2.2044\n",
      "Epoch [2/5], Step [300/600], Loss: 2.1870\n",
      "Epoch [2/5], Step [400/600], Loss: 2.1874\n",
      "Epoch [2/5], Step [500/600], Loss: 2.1893\n",
      "Epoch [2/5], Step [600/600], Loss: 2.1684\n",
      "Epoch [3/5], Step [100/600], Loss: 2.1122\n",
      "Epoch [3/5], Step [200/600], Loss: 2.1386\n",
      "Epoch [3/5], Step [300/600], Loss: 2.0811\n",
      "Epoch [3/5], Step [400/600], Loss: 2.0365\n"
     ]
    }
   ],
   "source": [
    "input_size = 28 * 28\n",
    "num_classes = 10\n",
    "learning_rate = 0.001\n",
    "num_epochs = 5\n",
    "batch_size = 100\n",
    "\n",
    "num_neurons_list = [5, 10, 15, 20, 25]\n",
    "\n",
    "for num_neurons in num_neurons_list:\n",
    "    kmeans = KMeans(n_clusters=num_neurons, random_state=0)\n",
    "    kmeans.fit(train_dataset.data.numpy().reshape(-1, 28*28))\n",
    "    centers = torch.tensor(kmeans.cluster_centers_).float()\n",
    "    gamma = 1.0 / torch.median(torch.cdist(centers, centers))\n",
    "    model = RBFNet(num_neurons, num_classes)\n",
    "    criterion = nn.CrossEntropyLoss()\n",
    "    optimizer = torch.optim.Adam(model.parameters(), lr=learning_rate)\n",
    "    train_loader = torch.utils.data.DataLoader(dataset=train_dataset, batch_size=batch_size, shuffle=True)\n",
    "    total_step = len(train_loader)\n",
    "    for epoch in range(num_epochs):\n",
    "        for i, (images, labels) in enumerate(train_loader):\n",
    "            images = images.reshape(-1, 28*28)\n",
    "            outputs = model(images)\n",
    "            loss = criterion(outputs, labels)\n",
    "            optimizer.zero_grad()\n",
    "            loss.backward()\n",
    "            optimizer.step()\n",
    "\n",
    "            if (i+1) % 100 == 0:\n",
    "                print ('Epoch [{}/{}], Step [{}/{}], Loss: {:.4f}'.format(epoch+1, num_epochs, i+1, total_step, loss.item()))\n",
    "\n",
    "    with torch.no_grad():\n",
    "        correct = 0\n",
    "        total = 0\n",
    "        test_loader = torch.utils.data.DataLoader(dataset=test_dataset, batch_size=batch_size, shuffle=False)\n",
    "        for images, labels in test_loader:\n",
    "            images = images.reshape(-1, 28*28)\n",
    "            outputs = model(images)\n",
    "            _, predicted = torch.max(outputs.data, 1)\n",
    "            total += labels.size(0)\n",
    "            correct += (predicted == labels).sum().item()\n",
    "\n",
    "        print('Accuracy of the network with {} neurons in the hidden layer: {} %'.format(num_neurons, 100 * correct / total))"
   ]
  }
 ],
 "metadata": {
  "colab": {
   "provenance": []
  },
  "kernelspec": {
   "display_name": "Python 3 (ipykernel)",
   "language": "python",
   "name": "python3"
  },
  "language_info": {
   "codemirror_mode": {
    "name": "ipython",
    "version": 3
   },
   "file_extension": ".py",
   "mimetype": "text/x-python",
   "name": "python",
   "nbconvert_exporter": "python",
   "pygments_lexer": "ipython3",
   "version": "3.11.5"
  }
 },
 "nbformat": 4,
 "nbformat_minor": 1
}
