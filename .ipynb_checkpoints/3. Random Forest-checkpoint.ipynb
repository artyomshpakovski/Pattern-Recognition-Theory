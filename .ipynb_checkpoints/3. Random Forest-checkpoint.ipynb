{
 "cells": [
  {
   "cell_type": "markdown",
   "metadata": {
    "id": "NEK_dmobOPip"
   },
   "source": [
    "Import libraries for future work"
   ]
  },
  {
   "cell_type": "code",
   "execution_count": 1,
   "metadata": {
    "id": "CJ3Gh4rGOB-y"
   },
   "outputs": [
    {
     "name": "stderr",
     "output_type": "stream",
     "text": [
      "2024-03-07 15:30:49.611857: E external/local_xla/xla/stream_executor/cuda/cuda_dnn.cc:9261] Unable to register cuDNN factory: Attempting to register factory for plugin cuDNN when one has already been registered\n",
      "2024-03-07 15:30:49.611897: E external/local_xla/xla/stream_executor/cuda/cuda_fft.cc:607] Unable to register cuFFT factory: Attempting to register factory for plugin cuFFT when one has already been registered\n",
      "2024-03-07 15:30:49.657064: E external/local_xla/xla/stream_executor/cuda/cuda_blas.cc:1515] Unable to register cuBLAS factory: Attempting to register factory for plugin cuBLAS when one has already been registered\n",
      "2024-03-07 15:30:49.753072: I tensorflow/core/platform/cpu_feature_guard.cc:182] This TensorFlow binary is optimized to use available CPU instructions in performance-critical operations.\n",
      "To enable the following instructions: AVX2 FMA, in other operations, rebuild TensorFlow with the appropriate compiler flags.\n",
      "2024-03-07 15:30:50.813770: W tensorflow/compiler/tf2tensorrt/utils/py_utils.cc:38] TF-TRT Warning: Could not find TensorRT\n"
     ]
    }
   ],
   "source": [
    "import numpy as np\n",
    "import tensorflow as tf\n",
    "from sklearn.model_selection import train_test_split\n",
    "from sklearn.metrics import accuracy_score\n",
    "import matplotlib.pyplot as plt\n",
    "from sklearn.ensemble import RandomForestClassifier\n",
    "None"
   ]
  },
  {
   "cell_type": "markdown",
   "metadata": {
    "id": "ybSZS6ETYLMS"
   },
   "source": [
    "Downlaod MNIST dataset"
   ]
  },
  {
   "cell_type": "code",
   "execution_count": 2,
   "metadata": {
    "colab": {
     "base_uri": "https://localhost:8080/"
    },
    "id": "7fUAg-_IOrmN",
    "outputId": "ca30a149-73d7-4abc-b72f-ecb767646e2f"
   },
   "outputs": [],
   "source": [
    "(data_train, labels_train), (data_test, labels_test) = tf.keras.datasets.mnist.load_data()\n",
    "images = np.concatenate((data_train, data_test))\n",
    "labels = np.concatenate((labels_train, labels_test))\n",
    "images = np.reshape(images, (70000, 784))\n"
   ]
  },
  {
   "cell_type": "markdown",
   "metadata": {
    "id": "OakMFFq9YO9J"
   },
   "source": [
    "Create RandomForstClassifier with constant variable. Then let's experiment with different training sample size from 10% to 80% in increments of 10%"
   ]
  },
  {
   "cell_type": "code",
   "execution_count": 3,
   "metadata": {
    "id": "337kg39zO9mu"
   },
   "outputs": [],
   "source": [
    "model = RandomForestClassifier(n_estimators = 15, max_depth = 10) # example"
   ]
  },
  {
   "cell_type": "code",
   "execution_count": null,
   "metadata": {
    "id": "6TpGoAKNPTt2"
   },
   "outputs": [],
   "source": [
    "test_sizes = [0.1, 0.2, 0.3, 0.4, 0.5, 0.6, 0.7, 0.8]\n",
    "results = {}\n",
    "for test_size in test_sizes:\n",
    "  X_train, X_test, y_train, y_test = train_test_split(images, labels, test_size = test_size, random_state = 42)\n",
    "  model = RandomForestClassifier(n_estimators = 50)\n",
    "  model.fit(X_train, y_train)\n",
    "  results[test_size] = accuracy_score(y_test, model.predict(X_test))"
   ]
  },
  {
   "cell_type": "markdown",
   "metadata": {
    "id": "ZwbxIw7Hd8nW"
   },
   "source": [
    "Let's check the plot"
   ]
  },
  {
   "cell_type": "code",
   "execution_count": null,
   "metadata": {
    "colab": {
     "base_uri": "https://localhost:8080/",
     "height": 430
    },
    "id": "mDHlDCx7W5ul",
    "outputId": "3eac2d90-9df4-4514-a42a-d8e01b3dbae4"
   },
   "outputs": [],
   "source": [
    "plt.plot(results.keys(), results.values())\n",
    "plt.show()"
   ]
  }
 ],
 "metadata": {
  "colab": {
   "provenance": []
  },
  "kernelspec": {
   "display_name": "Python 3 (ipykernel)",
   "language": "python",
   "name": "python3"
  },
  "language_info": {
   "codemirror_mode": {
    "name": "ipython",
    "version": 3
   },
   "file_extension": ".py",
   "mimetype": "text/x-python",
   "name": "python",
   "nbconvert_exporter": "python",
   "pygments_lexer": "ipython3",
   "version": "3.11.5"
  }
 },
 "nbformat": 4,
 "nbformat_minor": 1
}
