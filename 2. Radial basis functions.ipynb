{
  "nbformat": 4,
  "nbformat_minor": 0,
  "metadata": {
    "colab": {
      "provenance": []
    },
    "kernelspec": {
      "name": "python3",
      "display_name": "Python 3"
    },
    "language_info": {
      "name": "python"
    }
  },
  "cells": [
    {
      "cell_type": "code",
      "execution_count": 2,
      "metadata": {
        "id": "uez6KYiU4bJs"
      },
      "outputs": [],
      "source": [
        "import torch\n",
        "import torch.nn as nn\n",
        "import torchvision\n",
        "import torchvision.transforms as transforms\n",
        "from sklearn.cluster import KMeans\n",
        "import numpy as np"
      ]
    },
    {
      "cell_type": "code",
      "source": [
        "class RBFNet(nn.Module):\n",
        "    def __init__(self, num_neurons, num_classes):\n",
        "        super(RBFNet, self).__init__()\n",
        "        self.num_neurons = num_neurons\n",
        "        self.num_classes = num_classes\n",
        "        self.fc1 = nn.Linear(input_size, num_neurons, bias=False)\n",
        "        self.fc2 = nn.Linear(num_neurons, num_classes, bias=False)\n",
        "\n",
        "    def forward(self, x):\n",
        "        x = torch.exp(-gamma * torch.cdist(x, self.fc1.weight) ** 2)\n",
        "        x = self.fc2(x)\n",
        "        return x"
      ],
      "metadata": {
        "id": "FtLOZjrc4rXN"
      },
      "execution_count": 3,
      "outputs": []
    },
    {
      "cell_type": "code",
      "source": [
        "transform = transforms.Compose([transforms.ToTensor(), transforms.Normalize((0.1307,), (0.3081,))])\n",
        "train_dataset = torchvision.datasets.MNIST(root='./data', train=True, transform=transform, download=True)\n",
        "test_dataset = torchvision.datasets.MNIST(root='./data', train=False, transform=transform)"
      ],
      "metadata": {
        "colab": {
          "base_uri": "https://localhost:8080/"
        },
        "id": "fVegM2QB4sQU",
        "outputId": "df09025a-2405-407e-da63-bea1fb3538aa"
      },
      "execution_count": 4,
      "outputs": [
        {
          "output_type": "stream",
          "name": "stdout",
          "text": [
            "Downloading http://yann.lecun.com/exdb/mnist/train-images-idx3-ubyte.gz\n",
            "Downloading http://yann.lecun.com/exdb/mnist/train-images-idx3-ubyte.gz to ./data/MNIST/raw/train-images-idx3-ubyte.gz\n"
          ]
        },
        {
          "output_type": "stream",
          "name": "stderr",
          "text": [
            "100%|██████████| 9912422/9912422 [00:00<00:00, 159589857.22it/s]"
          ]
        },
        {
          "output_type": "stream",
          "name": "stdout",
          "text": [
            "Extracting ./data/MNIST/raw/train-images-idx3-ubyte.gz to ./data/MNIST/raw\n"
          ]
        },
        {
          "output_type": "stream",
          "name": "stderr",
          "text": [
            "\n"
          ]
        },
        {
          "output_type": "stream",
          "name": "stdout",
          "text": [
            "\n",
            "Downloading http://yann.lecun.com/exdb/mnist/train-labels-idx1-ubyte.gz\n",
            "Downloading http://yann.lecun.com/exdb/mnist/train-labels-idx1-ubyte.gz to ./data/MNIST/raw/train-labels-idx1-ubyte.gz\n"
          ]
        },
        {
          "output_type": "stream",
          "name": "stderr",
          "text": [
            "100%|██████████| 28881/28881 [00:00<00:00, 29984082.63it/s]\n"
          ]
        },
        {
          "output_type": "stream",
          "name": "stdout",
          "text": [
            "Extracting ./data/MNIST/raw/train-labels-idx1-ubyte.gz to ./data/MNIST/raw\n",
            "\n",
            "Downloading http://yann.lecun.com/exdb/mnist/t10k-images-idx3-ubyte.gz\n",
            "Downloading http://yann.lecun.com/exdb/mnist/t10k-images-idx3-ubyte.gz to ./data/MNIST/raw/t10k-images-idx3-ubyte.gz\n"
          ]
        },
        {
          "output_type": "stream",
          "name": "stderr",
          "text": [
            "100%|██████████| 1648877/1648877 [00:00<00:00, 45766053.42it/s]"
          ]
        },
        {
          "output_type": "stream",
          "name": "stdout",
          "text": [
            "Extracting ./data/MNIST/raw/t10k-images-idx3-ubyte.gz to ./data/MNIST/raw\n"
          ]
        },
        {
          "output_type": "stream",
          "name": "stderr",
          "text": [
            "\n"
          ]
        },
        {
          "output_type": "stream",
          "name": "stdout",
          "text": [
            "\n",
            "Downloading http://yann.lecun.com/exdb/mnist/t10k-labels-idx1-ubyte.gz\n",
            "Downloading http://yann.lecun.com/exdb/mnist/t10k-labels-idx1-ubyte.gz to ./data/MNIST/raw/t10k-labels-idx1-ubyte.gz\n"
          ]
        },
        {
          "output_type": "stream",
          "name": "stderr",
          "text": [
            "100%|██████████| 4542/4542 [00:00<00:00, 12898123.74it/s]\n"
          ]
        },
        {
          "output_type": "stream",
          "name": "stdout",
          "text": [
            "Extracting ./data/MNIST/raw/t10k-labels-idx1-ubyte.gz to ./data/MNIST/raw\n",
            "\n"
          ]
        }
      ]
    },
    {
      "cell_type": "code",
      "source": [
        "input_size = 28 * 28\n",
        "num_classes = 10\n",
        "learning_rate = 0.001\n",
        "num_epochs = 5\n",
        "batch_size = 100\n",
        "\n",
        "num_neurons_list = [5, 10, 15, 20, 25]\n",
        "\n",
        "for num_neurons in num_neurons_list:\n",
        "    kmeans = KMeans(n_clusters=num_neurons, random_state=0)\n",
        "    kmeans.fit(train_dataset.data.numpy().reshape(-1, 28*28))\n",
        "    centers = torch.tensor(kmeans.cluster_centers_).float()\n",
        "    gamma = 1.0 / torch.median(torch.cdist(centers, centers))\n",
        "    model = RBFNet(num_neurons, num_classes)\n",
        "    criterion = nn.CrossEntropyLoss()\n",
        "    optimizer = torch.optim.Adam(model.parameters(), lr=learning_rate)\n",
        "    train_loader = torch.utils.data.DataLoader(dataset=train_dataset, batch_size=batch_size, shuffle=True)\n",
        "    total_step = len(train_loader)\n",
        "    for epoch in range(num_epochs):\n",
        "        for i, (images, labels) in enumerate(train_loader):\n",
        "            images = images.reshape(-1, 28*28)\n",
        "            outputs = model(images)\n",
        "            loss = criterion(outputs, labels)\n",
        "            optimizer.zero_grad()\n",
        "            loss.backward()\n",
        "            optimizer.step()\n",
        "\n",
        "            if (i+1) % 100 == 0:\n",
        "                print ('Epoch [{}/{}], Step [{}/{}], Loss: {:.4f}'.format(epoch+1, num_epochs, i+1, total_step, loss.item()))\n",
        "\n",
        "    with torch.no_grad():\n",
        "        correct = 0\n",
        "        total = 0\n",
        "        test_loader = torch.utils.data.DataLoader(dataset=test_dataset, batch_size=batch_size, shuffle=False)\n",
        "        for images, labels in test_loader:\n",
        "            images = images.reshape(-1, 28*28)\n",
        "            outputs = model(images)\n",
        "            _, predicted = torch.max(outputs.data, 1)\n",
        "            total += labels.size(0)\n",
        "            correct += (predicted == labels).sum().item()\n",
        "\n",
        "        print('Accuracy of the network with {} neurons in the hidden layer: {} %'.format(num_neurons, 100 * correct / total))"
      ],
      "metadata": {
        "colab": {
          "base_uri": "https://localhost:8080/"
        },
        "id": "aAMs8EEn499S",
        "outputId": "15ffd90d-6bd3-4cf3-b54d-129cdbf843d3"
      },
      "execution_count": 5,
      "outputs": [
        {
          "output_type": "stream",
          "name": "stderr",
          "text": [
            "/usr/local/lib/python3.10/dist-packages/sklearn/cluster/_kmeans.py:870: FutureWarning: The default value of `n_init` will change from 10 to 'auto' in 1.4. Set the value of `n_init` explicitly to suppress the warning\n",
            "  warnings.warn(\n"
          ]
        },
        {
          "output_type": "stream",
          "name": "stdout",
          "text": [
            "Epoch [1/5], Step [100/600], Loss: 2.2790\n",
            "Epoch [1/5], Step [200/600], Loss: 2.2742\n",
            "Epoch [1/5], Step [300/600], Loss: 2.2815\n",
            "Epoch [1/5], Step [400/600], Loss: 2.2838\n",
            "Epoch [1/5], Step [500/600], Loss: 2.2871\n",
            "Epoch [1/5], Step [600/600], Loss: 2.2332\n",
            "Epoch [2/5], Step [100/600], Loss: 2.2624\n",
            "Epoch [2/5], Step [200/600], Loss: 2.2567\n",
            "Epoch [2/5], Step [300/600], Loss: 2.2547\n",
            "Epoch [2/5], Step [400/600], Loss: 2.2071\n",
            "Epoch [2/5], Step [500/600], Loss: 2.1969\n",
            "Epoch [2/5], Step [600/600], Loss: 2.2026\n",
            "Epoch [3/5], Step [100/600], Loss: 2.1924\n",
            "Epoch [3/5], Step [200/600], Loss: 2.2031\n",
            "Epoch [3/5], Step [300/600], Loss: 2.1507\n",
            "Epoch [3/5], Step [400/600], Loss: 2.1030\n",
            "Epoch [3/5], Step [500/600], Loss: 2.1042\n",
            "Epoch [3/5], Step [600/600], Loss: 2.0878\n",
            "Epoch [4/5], Step [100/600], Loss: 2.0849\n",
            "Epoch [4/5], Step [200/600], Loss: 2.1022\n",
            "Epoch [4/5], Step [300/600], Loss: 2.0804\n",
            "Epoch [4/5], Step [400/600], Loss: 2.0355\n",
            "Epoch [4/5], Step [500/600], Loss: 2.0459\n",
            "Epoch [4/5], Step [600/600], Loss: 2.0511\n",
            "Epoch [5/5], Step [100/600], Loss: 1.9692\n",
            "Epoch [5/5], Step [200/600], Loss: 1.8717\n",
            "Epoch [5/5], Step [300/600], Loss: 1.9456\n",
            "Epoch [5/5], Step [400/600], Loss: 2.0118\n",
            "Epoch [5/5], Step [500/600], Loss: 1.8944\n",
            "Epoch [5/5], Step [600/600], Loss: 1.9822\n",
            "Accuracy of the network with 5 neurons in the hidden layer: 41.29 %\n"
          ]
        },
        {
          "output_type": "stream",
          "name": "stderr",
          "text": [
            "/usr/local/lib/python3.10/dist-packages/sklearn/cluster/_kmeans.py:870: FutureWarning: The default value of `n_init` will change from 10 to 'auto' in 1.4. Set the value of `n_init` explicitly to suppress the warning\n",
            "  warnings.warn(\n"
          ]
        },
        {
          "output_type": "stream",
          "name": "stdout",
          "text": [
            "Epoch [1/5], Step [100/600], Loss: 2.2926\n",
            "Epoch [1/5], Step [200/600], Loss: 2.2741\n",
            "Epoch [1/5], Step [300/600], Loss: 2.2728\n",
            "Epoch [1/5], Step [400/600], Loss: 2.2620\n",
            "Epoch [1/5], Step [500/600], Loss: 2.2580\n",
            "Epoch [1/5], Step [600/600], Loss: 2.2620\n",
            "Epoch [2/5], Step [100/600], Loss: 2.2269\n",
            "Epoch [2/5], Step [200/600], Loss: 2.2264\n",
            "Epoch [2/5], Step [300/600], Loss: 2.2199\n",
            "Epoch [2/5], Step [400/600], Loss: 2.2160\n",
            "Epoch [2/5], Step [500/600], Loss: 2.1718\n",
            "Epoch [2/5], Step [600/600], Loss: 2.1576\n",
            "Epoch [3/5], Step [100/600], Loss: 2.1005\n",
            "Epoch [3/5], Step [200/600], Loss: 2.1129\n",
            "Epoch [3/5], Step [300/600], Loss: 2.0537\n",
            "Epoch [3/5], Step [400/600], Loss: 2.0607\n",
            "Epoch [3/5], Step [500/600], Loss: 1.9754\n",
            "Epoch [3/5], Step [600/600], Loss: 1.9999\n",
            "Epoch [4/5], Step [100/600], Loss: 2.0149\n",
            "Epoch [4/5], Step [200/600], Loss: 1.9983\n",
            "Epoch [4/5], Step [300/600], Loss: 1.9270\n",
            "Epoch [4/5], Step [400/600], Loss: 1.8912\n",
            "Epoch [4/5], Step [500/600], Loss: 1.8973\n",
            "Epoch [4/5], Step [600/600], Loss: 1.9114\n",
            "Epoch [5/5], Step [100/600], Loss: 1.8818\n",
            "Epoch [5/5], Step [200/600], Loss: 1.8071\n",
            "Epoch [5/5], Step [300/600], Loss: 1.7971\n",
            "Epoch [5/5], Step [400/600], Loss: 1.7747\n",
            "Epoch [5/5], Step [500/600], Loss: 1.7433\n",
            "Epoch [5/5], Step [600/600], Loss: 1.7410\n",
            "Accuracy of the network with 10 neurons in the hidden layer: 52.51 %\n"
          ]
        },
        {
          "output_type": "stream",
          "name": "stderr",
          "text": [
            "/usr/local/lib/python3.10/dist-packages/sklearn/cluster/_kmeans.py:870: FutureWarning: The default value of `n_init` will change from 10 to 'auto' in 1.4. Set the value of `n_init` explicitly to suppress the warning\n",
            "  warnings.warn(\n"
          ]
        },
        {
          "output_type": "stream",
          "name": "stdout",
          "text": [
            "Epoch [1/5], Step [100/600], Loss: 2.2892\n",
            "Epoch [1/5], Step [200/600], Loss: 2.2787\n",
            "Epoch [1/5], Step [300/600], Loss: 2.2743\n",
            "Epoch [1/5], Step [400/600], Loss: 2.2728\n",
            "Epoch [1/5], Step [500/600], Loss: 2.2795\n",
            "Epoch [1/5], Step [600/600], Loss: 2.2340\n",
            "Epoch [2/5], Step [100/600], Loss: 2.1888\n",
            "Epoch [2/5], Step [200/600], Loss: 2.2114\n",
            "Epoch [2/5], Step [300/600], Loss: 2.1701\n",
            "Epoch [2/5], Step [400/600], Loss: 2.1091\n",
            "Epoch [2/5], Step [500/600], Loss: 2.0739\n",
            "Epoch [2/5], Step [600/600], Loss: 2.1024\n",
            "Epoch [3/5], Step [100/600], Loss: 2.0283\n",
            "Epoch [3/5], Step [200/600], Loss: 2.0264\n",
            "Epoch [3/5], Step [300/600], Loss: 1.9961\n",
            "Epoch [3/5], Step [400/600], Loss: 1.9572\n",
            "Epoch [3/5], Step [500/600], Loss: 1.8978\n",
            "Epoch [3/5], Step [600/600], Loss: 1.9280\n",
            "Epoch [4/5], Step [100/600], Loss: 1.8682\n",
            "Epoch [4/5], Step [200/600], Loss: 1.8240\n",
            "Epoch [4/5], Step [300/600], Loss: 1.8133\n",
            "Epoch [4/5], Step [400/600], Loss: 1.8641\n",
            "Epoch [4/5], Step [500/600], Loss: 1.7251\n",
            "Epoch [4/5], Step [600/600], Loss: 1.7766\n",
            "Epoch [5/5], Step [100/600], Loss: 1.6501\n",
            "Epoch [5/5], Step [200/600], Loss: 1.6656\n",
            "Epoch [5/5], Step [300/600], Loss: 1.5810\n",
            "Epoch [5/5], Step [400/600], Loss: 1.6564\n",
            "Epoch [5/5], Step [500/600], Loss: 1.5909\n",
            "Epoch [5/5], Step [600/600], Loss: 1.5845\n",
            "Accuracy of the network with 15 neurons in the hidden layer: 61.51 %\n"
          ]
        },
        {
          "output_type": "stream",
          "name": "stderr",
          "text": [
            "/usr/local/lib/python3.10/dist-packages/sklearn/cluster/_kmeans.py:870: FutureWarning: The default value of `n_init` will change from 10 to 'auto' in 1.4. Set the value of `n_init` explicitly to suppress the warning\n",
            "  warnings.warn(\n"
          ]
        },
        {
          "output_type": "stream",
          "name": "stdout",
          "text": [
            "Epoch [1/5], Step [100/600], Loss: 2.2918\n",
            "Epoch [1/5], Step [200/600], Loss: 2.2697\n",
            "Epoch [1/5], Step [300/600], Loss: 2.2594\n",
            "Epoch [1/5], Step [400/600], Loss: 2.2456\n",
            "Epoch [1/5], Step [500/600], Loss: 2.2539\n",
            "Epoch [1/5], Step [600/600], Loss: 2.1935\n",
            "Epoch [2/5], Step [100/600], Loss: 2.2002\n",
            "Epoch [2/5], Step [200/600], Loss: 2.1892\n",
            "Epoch [2/5], Step [300/600], Loss: 2.1475\n",
            "Epoch [2/5], Step [400/600], Loss: 2.1373\n",
            "Epoch [2/5], Step [500/600], Loss: 2.0662\n",
            "Epoch [2/5], Step [600/600], Loss: 2.0752\n",
            "Epoch [3/5], Step [100/600], Loss: 2.0631\n",
            "Epoch [3/5], Step [200/600], Loss: 1.9564\n",
            "Epoch [3/5], Step [300/600], Loss: 1.9252\n",
            "Epoch [3/5], Step [400/600], Loss: 1.9125\n",
            "Epoch [3/5], Step [500/600], Loss: 1.8144\n",
            "Epoch [3/5], Step [600/600], Loss: 1.8294\n",
            "Epoch [4/5], Step [100/600], Loss: 1.7822\n",
            "Epoch [4/5], Step [200/600], Loss: 1.7470\n",
            "Epoch [4/5], Step [300/600], Loss: 1.7096\n",
            "Epoch [4/5], Step [400/600], Loss: 1.6345\n",
            "Epoch [4/5], Step [500/600], Loss: 1.6861\n",
            "Epoch [4/5], Step [600/600], Loss: 1.6099\n",
            "Epoch [5/5], Step [100/600], Loss: 1.6479\n",
            "Epoch [5/5], Step [200/600], Loss: 1.6198\n",
            "Epoch [5/5], Step [300/600], Loss: 1.5233\n",
            "Epoch [5/5], Step [400/600], Loss: 1.5004\n",
            "Epoch [5/5], Step [500/600], Loss: 1.5315\n",
            "Epoch [5/5], Step [600/600], Loss: 1.4734\n",
            "Accuracy of the network with 20 neurons in the hidden layer: 62.28 %\n"
          ]
        },
        {
          "output_type": "stream",
          "name": "stderr",
          "text": [
            "/usr/local/lib/python3.10/dist-packages/sklearn/cluster/_kmeans.py:870: FutureWarning: The default value of `n_init` will change from 10 to 'auto' in 1.4. Set the value of `n_init` explicitly to suppress the warning\n",
            "  warnings.warn(\n"
          ]
        },
        {
          "output_type": "stream",
          "name": "stdout",
          "text": [
            "Epoch [1/5], Step [100/600], Loss: 2.3005\n",
            "Epoch [1/5], Step [200/600], Loss: 2.2678\n",
            "Epoch [1/5], Step [300/600], Loss: 2.2686\n",
            "Epoch [1/5], Step [400/600], Loss: 2.2473\n",
            "Epoch [1/5], Step [500/600], Loss: 2.2372\n",
            "Epoch [1/5], Step [600/600], Loss: 2.2132\n",
            "Epoch [2/5], Step [100/600], Loss: 2.2102\n",
            "Epoch [2/5], Step [200/600], Loss: 2.1662\n",
            "Epoch [2/5], Step [300/600], Loss: 2.1158\n",
            "Epoch [2/5], Step [400/600], Loss: 2.0760\n",
            "Epoch [2/5], Step [500/600], Loss: 2.0901\n",
            "Epoch [2/5], Step [600/600], Loss: 2.0263\n",
            "Epoch [3/5], Step [100/600], Loss: 1.9873\n",
            "Epoch [3/5], Step [200/600], Loss: 1.9108\n",
            "Epoch [3/5], Step [300/600], Loss: 1.8539\n",
            "Epoch [3/5], Step [400/600], Loss: 1.8479\n",
            "Epoch [3/5], Step [500/600], Loss: 1.7809\n",
            "Epoch [3/5], Step [600/600], Loss: 1.6709\n",
            "Epoch [4/5], Step [100/600], Loss: 1.7474\n",
            "Epoch [4/5], Step [200/600], Loss: 1.7467\n",
            "Epoch [4/5], Step [300/600], Loss: 1.7036\n",
            "Epoch [4/5], Step [400/600], Loss: 1.6931\n",
            "Epoch [4/5], Step [500/600], Loss: 1.5342\n",
            "Epoch [4/5], Step [600/600], Loss: 1.5724\n",
            "Epoch [5/5], Step [100/600], Loss: 1.4970\n",
            "Epoch [5/5], Step [200/600], Loss: 1.5297\n",
            "Epoch [5/5], Step [300/600], Loss: 1.5252\n",
            "Epoch [5/5], Step [400/600], Loss: 1.5048\n",
            "Epoch [5/5], Step [500/600], Loss: 1.4704\n",
            "Epoch [5/5], Step [600/600], Loss: 1.3667\n",
            "Accuracy of the network with 25 neurons in the hidden layer: 67.14 %\n"
          ]
        }
      ]
    }
  ]
}